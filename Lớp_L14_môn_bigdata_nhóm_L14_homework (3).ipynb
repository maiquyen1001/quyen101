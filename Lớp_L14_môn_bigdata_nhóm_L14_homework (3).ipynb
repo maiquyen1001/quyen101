{
  "cells": [
    {
      "cell_type": "markdown",
      "source": [
        "**HOMEWORK 1**\n",
        "\n",
        "NHÓM 11\n",
        "\n",
        "Trần Thị Cẩm Yến - 050608200810\n",
        "\n",
        "Ngô Võ Thị Mai Quyên - 050608200589\n",
        "\n",
        "Nguyễn Thị Anh Thư - 050608200698"
      ],
      "metadata": {
        "id": "lUNxPNOifhpo"
      }
    },
    {
      "cell_type": "markdown",
      "source": [
        "**CÂU 1**"
      ],
      "metadata": {
        "id": "Tq0TDu4vftls"
      }
    },
    {
      "cell_type": "code",
      "execution_count": null,
      "metadata": {
        "id": "XyidF5CZpDLY"
      },
      "outputs": [],
      "source": [
        "%%capture\n",
        "!pip install pyspark\n",
        "!pip install -U -q PyDrive\n",
        "!apt install openjdk-8-jdk-headless -qq\n",
        "import os\n",
        "os.environ[\"JAVA_HOME\"] = \"/usr/lib/jvm/java-8-openjdk-amd64\""
      ]
    },
    {
      "cell_type": "markdown",
      "source": [],
      "metadata": {
        "id": "GdD7f-s0fhE6"
      }
    },
    {
      "cell_type": "code",
      "execution_count": null,
      "metadata": {
        "id": "_qVvc4pvvJ8s"
      },
      "outputs": [],
      "source": [
        "from pydrive.auth import GoogleAuth\n",
        "from pydrive.drive import GoogleDrive\n",
        "from google.colab import auth\n",
        "from oauth2client.client import GoogleCredentials\n",
        "\n",
        "# Authenticate and create the PyDrive client\n",
        "auth.authenticate_user()\n",
        "gauth = GoogleAuth()\n",
        "gauth.credentials = GoogleCredentials.get_application_default()\n",
        "drive = GoogleDrive(gauth)\n",
        "     "
      ]
    },
    {
      "cell_type": "code",
      "execution_count": null,
      "metadata": {
        "colab": {
          "base_uri": "https://localhost:8080/"
        },
        "id": "E9RW6NBOvTm-",
        "outputId": "d1777894-e1cf-44f3-b7d1-5dc908bd49be"
      },
      "outputs": [
        {
          "output_type": "stream",
          "name": "stdout",
          "text": [
            "Mounted at /content/drive\n"
          ]
        }
      ],
      "source": [
        "from google.colab import drive\n",
        "drive.mount('/content/drive')\n",
        "# Avoids scroll-in-the-scroll in the entire Notebook\n",
        "from IPython.display import Javascript\n",
        "def resize_colab_cell():\n",
        "  display(Javascript('google.colab.output.setIframeHeight(0, true, {maxHeight: 400})'))\n",
        "get_ipython().events.register('pre_run_cell', resize_colab_cell)"
      ]
    },
    {
      "cell_type": "code",
      "execution_count": null,
      "metadata": {
        "colab": {
          "base_uri": "https://localhost:8080/",
          "height": 315
        },
        "id": "hlOQSA5Evr_c",
        "outputId": "5e9c6858-ba62-4439-8e7b-723fad2d9733"
      },
      "outputs": [
        {
          "output_type": "display_data",
          "data": {
            "text/plain": [
              "<IPython.core.display.Javascript object>"
            ],
            "application/javascript": [
              "google.colab.output.setIframeHeight(0, true, {maxHeight: 400})"
            ]
          },
          "metadata": {}
        },
        {
          "output_type": "stream",
          "name": "stdout",
          "text": [
            "--2023-04-02 14:48:32--  https://bin.equinox.io/c/4VmDzA7iaHb/ngrok-stable-linux-amd64.zip\n",
            "Resolving bin.equinox.io (bin.equinox.io)... 54.237.133.81, 52.202.168.65, 54.161.241.46, ...\n",
            "Connecting to bin.equinox.io (bin.equinox.io)|54.237.133.81|:443... connected.\n",
            "HTTP request sent, awaiting response... 200 OK\n",
            "Length: 13921656 (13M) [application/octet-stream]\n",
            "Saving to: ‘ngrok-stable-linux-amd64.zip’\n",
            "\n",
            "ngrok-stable-linux- 100%[===================>]  13.28M  55.1MB/s    in 0.2s    \n",
            "\n",
            "2023-04-02 14:48:33 (55.1 MB/s) - ‘ngrok-stable-linux-amd64.zip’ saved [13921656/13921656]\n",
            "\n",
            "Archive:  ngrok-stable-linux-amd64.zip\n",
            "  inflating: ngrok                   \n",
            "Traceback (most recent call last):\n",
            "  File \"<string>\", line 1, in <module>\n",
            "IndexError: list index out of range\n"
          ]
        }
      ],
      "source": [
        "!wget https://bin.equinox.io/c/4VmDzA7iaHb/ngrok-stable-linux-amd64.zip\n",
        "!unzip ngrok-stable-linux-amd64.zip\n",
        "get_ipython().system_raw('./ngrok http 4050 &')\n",
        "!curl -s http://localhost:4040/api/tunnels | python3 -c \\\n",
        "    \"import sys, json; print(json.load(sys.stdin)['tunnels'][0]['public_url'])\""
      ]
    },
    {
      "cell_type": "code",
      "execution_count": null,
      "metadata": {
        "colab": {
          "base_uri": "https://localhost:8080/",
          "height": 17
        },
        "id": "r7lP4s2-vxEm",
        "outputId": "55a59aba-dccc-458a-c71b-ebbf4f334cd4"
      },
      "outputs": [
        {
          "output_type": "display_data",
          "data": {
            "text/plain": [
              "<IPython.core.display.Javascript object>"
            ],
            "application/javascript": [
              "google.colab.output.setIframeHeight(0, true, {maxHeight: 400})"
            ]
          },
          "metadata": {}
        }
      ],
      "source": [
        "def line_to_friend_ownership(line):\n",
        "    split = line.split()\n",
        "    user_id = int(split[0])\n",
        "    if len(split) == 1:\n",
        "        friends = []\n",
        "    else:\n",
        "        friends = list(map(lambda x: int(x), split[1].split(',')))\n",
        "    return user_id, friends\n"
      ]
    },
    {
      "cell_type": "code",
      "source": [
        "def friend_ownership_to_connection(f_o):\n",
        "    user_id = f_o[0]\n",
        "    friends = f_o[1]\n",
        "    connections = []\n",
        "    for friend_id in friends:\n",
        "        key = (user_id, friend_id)\n",
        "        if user_id > friend_id:\n",
        "            key = (friend_id, user_id)\n",
        "        connections.append((key, 0))  # they are friends, value=0\n",
        "    for friend_pair in itertools.combinations(friends, 2):\n",
        "        friend_0 = friend_pair[0]\n",
        "        friend_1 = friend_pair[1]\n",
        "        key = (friend_0, friend_1)\n",
        "        if friend_0 > friend_1:\n",
        "            key = (friend_1, friend_0)\n",
        "        connections.append((key, 1))  # they have mutual friends, value=1\n",
        "    return connections"
      ],
      "metadata": {
        "id": "KVCbhTEgfPET"
      },
      "execution_count": null,
      "outputs": []
    },
    {
      "cell_type": "code",
      "source": [
        "def mutual_friend_count_to_recommendation(f):\n",
        "    pair = f[0]\n",
        "    friend0 = pair[0]\n",
        "    friend1 = pair[1]\n",
        "    noMutFriends = f[1]\n",
        "    rec0 = (friend0, (friend1, noMutFriends))\n",
        "    rec1 = (friend1, (friend0, noMutFriends))\n",
        "    return [rec0, rec1]"
      ],
      "metadata": {
        "id": "NVqS90lUfLQj"
      },
      "execution_count": null,
      "outputs": []
    },
    {
      "cell_type": "code",
      "source": [
        "def recommendation_to_sorted_truncated(recs):\n",
        "    recs.sort(key=lambda x: (-x[1], x[0]))\n",
        "    return list(map(lambda x: x[0], recs))[:10]"
      ],
      "metadata": {
        "id": "UJwWFafffHnV"
      },
      "execution_count": null,
      "outputs": []
    },
    {
      "cell_type": "code",
      "execution_count": null,
      "metadata": {
        "colab": {
          "base_uri": "https://localhost:8080/",
          "height": 17
        },
        "id": "KiYMu2KkdWgQ",
        "outputId": "e0f6b452-9e28-4941-bfdc-320a6b6347e7"
      },
      "outputs": [
        {
          "output_type": "display_data",
          "data": {
            "text/plain": [
              "<IPython.core.display.Javascript object>"
            ],
            "application/javascript": [
              "google.colab.output.setIframeHeight(0, true, {maxHeight: 400})"
            ]
          },
          "metadata": {}
        }
      ],
      "source": [
        "import pandas as pd\n",
        "import numpy as np\n",
        "import matplotlib.pyplot as plt\n",
        "import itertools\n",
        "%matplotlib inline\n",
        "import pyspark\n",
        "from pyspark.sql import *\n",
        "from pyspark.sql.functions import *\n",
        "from pyspark import SparkContext, SparkConf\n",
        "# create the session\n",
        "conf = SparkConf().set(\"spark.ui.port\", \"4050\")\n",
        "# create the context\n",
        "sc = pyspark.SparkContext(conf=conf)\n",
        "spark = SparkSession.builder.getOrCreate()"
      ]
    },
    {
      "cell_type": "code",
      "execution_count": null,
      "metadata": {
        "colab": {
          "base_uri": "https://localhost:8080/",
          "height": 17
        },
        "id": "jDgiiphnv5c4",
        "outputId": "446ccebb-8e8a-4924-b190-fc42ffe3876e"
      },
      "outputs": [
        {
          "output_type": "display_data",
          "data": {
            "text/plain": [
              "<IPython.core.display.Javascript object>"
            ],
            "application/javascript": [
              "google.colab.output.setIframeHeight(0, true, {maxHeight: 400})"
            ]
          },
          "metadata": {}
        }
      ],
      "source": [
        "# Read from text file \n",
        "lines = sc.textFile(\"/content/soc-LiveJournal1Adj.txt\")\n",
        "\n",
        "# Map each line to the form: (user_id, [friend_id_0, friend_id_1, ...])\n",
        "friend_ownership = lines.map(line_to_friend_ownership).filter(lambda friend: '' != friend[1])#.filter(lambda friend: 1000> friend[0]) #take 1000 samples for testing\n",
        "\n",
        "# Map friend ownerships to instances of ((user_id, friend_id), VALUE).\n",
        "# VALUE = 0 => pairs are already friends.\n",
        "# VALUE = 1 => pairs have mutual friends.\n",
        "friend_edges = friend_ownership.flatMap(friend_ownership_to_connection)\n",
        "friend_edges.cache()\n",
        "\n",
        "# Filter pairs that are already friends\n",
        "mutual_friend = friend_edges.groupByKey() \\\n",
        "    .filter(lambda edge: 0 not in edge[1]) \\\n",
        "    .flatMap(lambda x: [(x[0],item) for item in x[1]]) # flat it to count total mutual friends No; use map directly causes bugs\n",
        "\n",
        "# Count mutual friends by adding up values\n",
        "mutual_friend_counts = mutual_friend.reduceByKey( lambda x,y : x+y)\n",
        "\n",
        "# Create the recommendation objects, group them by key, then sort and \n",
        "recommendations = mutual_friend_counts.flatMap(mutual_friend_count_to_recommendation).groupByKey() \n",
        "\n",
        "# Truncate the recommendations to the 10 most highly recommended.\n",
        "recommendations10 = recommendations.map(lambda m: (m[0], recommendation_to_sorted_truncated(list(m[1])))).sortByKey() \n",
        "\n",
        "# Include in your writeup the recommendations for the users with following user IDs: 924, 8941, 8942, 9019, 9020, 9021, 9022, 9990, 9992, 9993.\n",
        "results = recommendations10.filter(lambda recommendations: recommendations[0] in [924, 8941, 8942, 9019, 9020, 9021, 9022, 9990, 9992, 9993])\n"
      ]
    },
    {
      "cell_type": "code",
      "execution_count": null,
      "metadata": {
        "colab": {
          "base_uri": "https://localhost:8080/",
          "height": 191
        },
        "id": "eg9-0Yi1sveh",
        "outputId": "428eccd8-0d00-4961-e896-f90ca18ea8a0"
      },
      "outputs": [
        {
          "output_type": "display_data",
          "data": {
            "text/plain": [
              "<IPython.core.display.Javascript object>"
            ],
            "application/javascript": [
              "google.colab.output.setIframeHeight(0, true, {maxHeight: 400})"
            ]
          },
          "metadata": {}
        },
        {
          "output_type": "execute_result",
          "data": {
            "text/plain": [
              "[(924, [439, 2409, 6995, 11860, 15416, 43748, 45881]),\n",
              " (8941, [8943, 8944, 8940]),\n",
              " (8942, [8939, 8940, 8943, 8944]),\n",
              " (9019, [9022, 317, 9023]),\n",
              " (9020, [9021, 9016, 9017, 9022, 317, 9023]),\n",
              " (9021, [9020, 9016, 9017, 9022, 317, 9023]),\n",
              " (9022, [9019, 9020, 9021, 317, 9016, 9017, 9023]),\n",
              " (9990, [13134, 13478, 13877, 34299, 34485, 34642, 37941]),\n",
              " (9992, [9987, 9989, 35667, 9991]),\n",
              " (9993, [9991, 13134, 13478, 13877, 34299, 34485, 34642, 37941])]"
            ]
          },
          "metadata": {},
          "execution_count": 8
        }
      ],
      "source": [
        "    results.collect()"
      ]
    },
    {
      "cell_type": "markdown",
      "source": [
        "**CÂU 2**"
      ],
      "metadata": {
        "id": "2vCnOuO9fyKX"
      }
    },
    {
      "cell_type": "markdown",
      "source": [
        "**2a**\n",
        "\n",
        "Nhược điểm khi bỏ qua Pr(B) là không phải tất cả các luật có độ tin cậy cao đều thú vị. Ví dụ, luật X→sữa có thể có độ tin cậy cao đối với nhiều tập hợp mặt hàng X, vì sữa được mua rất nhiều và độ tin cậy sẽ cao. Trong trường hợp này, sử dụng Interest (A → B) = |conf(A → B) - Pr(B)| là một giải pháp tốt.\n",
        "\n",
        "Lift không bị ảnh hưởng bởi hạn chế này vì lift(A → B) = conf(A→ B)/S(B). Ví dụ, nếu sự xuất hiện của A không ảnh hưởng đến B, lift(A → B) = 1. Nếu sự xuất hiện của A tăng tần suất của B, lift(A → B) > 1. Nếu sự xuất hiện của A giảm tần suất của B, lift(A → B) <1.\n",
        "\n",
        "Conviction cũng không bị ảnh hưởng bởi hạn chế này vì conv(A → B) = (1 - S(B) /(1- conf(A → B)). Ví dụ, nếu sự xuất hiện của A không ảnh hưởng đến B, conv(A → B) = 1. Nếu sự xuất hiện của A tăng tần suất của B, conv(A → B) > 1. Nếu sự xuất hiện của A giảm tần suất của B, conv(A → B) <1.\n"
      ],
      "metadata": {
        "id": "h3eJgrINf1LJ"
      }
    },
    {
      "cell_type": "markdown",
      "source": [
        "**2b**\n",
        "\n",
        "Confidence không đối xứng. conf(A → B) = Pr(B|A)= Pr(A∩B)/Pr(A), trong khi đó conf(B → A = Pr(A|B) = Pr(A∩B)/Pr(B). Vì Pr(A) không nhất thiết bằng Pr(B), nên độ đo này không đối xứng.\n",
        "\n",
        "Lift là đối xứng. lift (A→ B)= conf(A → B)/S(B)= support(A∪B)/(support (A)S(B)) = (Nsupport(A∪B)/ (support (A) support (B)), trong khi đó lift(B→ A) = conf(B → A)/S(A) = support (B∪A)/ (support(B)S(A) = (Nsupport(A∪B)/(support (A)support (B)). Vì lift (A → B) = lift(B → A), nên độ đo này đối xứng.\n",
        "\n",
        "Conviction không đối xứng. conv(A → B) = (1 - S(B))/(1- conf(A → B)) = (1-Pr(B)/(1 - Pr(AcB)/Pr(A), trong khi conv(B→ A) = (1 -S(A))/(1- conf(B → A) = (1- Pr(A))/(1–Pr(A∩B)/Pr(B)). Vì Pr(A) không nhất thiết bằng Pr(B), nên độ đo này không đối xứng."
      ],
      "metadata": {
        "id": "dfZJ4s1pf7co"
      }
    },
    {
      "cell_type": "markdown",
      "source": [
        "**2c**\n",
        "\n",
        "Độ tin cậy là một chỉ số mong muốn. Giả sử A → B luôn đúng, có nghĩa là B xuất hiện trong mọi giao dịch mà A xuất hiện. Sau đó, theo trực giác, conf(A → B) = Pr(B|A) = Pr(A, B) / Pr(A) = 1. Vì conf(A → B) có khoảng giá trị từ [0, 1], nên chỉ số này là mong muốn.\n",
        "\n",
        "Lift không mong muốn. Giả sử A → B luôn đúng. Sau đó, lift(A → B) = conf(A → B) / S(B) = 1 / S(B) = N / support (B). Giả sử tồn tại một luật khác luôn đúng dưới dạng C → D và giả định support (D) # support (B). Sau đó, lift(C → D) = conf(C→ D) / S(D) = 1 / S(D) = N / support(D). Vì vậy, lift(A → B) # lift (C → D), điều này cho thấy chỉ số này không mong muốn.\n",
        "\n",
        "Conviction là một chỉ số mong muốn. Giả sử A → B luôn đúng. Sau đó, conv(A → B) = (1 - S(B)) / (1 - conf(A → B)). Vì conf(A → B) = 1, conv(A → B) = ∞. Vì vô cùng chắc chắn là tối đa, nên chỉ số này là mong muốn.\n"
      ],
      "metadata": {
        "id": "Cus_dgPhgCdM"
      }
    },
    {
      "cell_type": "markdown",
      "source": [
        "**2d**"
      ],
      "metadata": {
        "id": "lifM2oZ3gGEf"
      }
    },
    {
      "cell_type": "code",
      "source": [
        "# Import libraries\n",
        "from pyspark.sql import SparkSession\n",
        "spark = SparkSession.builder.master('local[*]').getOrCreate()\n",
        "sc = spark.sparkContext"
      ],
      "metadata": {
        "colab": {
          "base_uri": "https://localhost:8080/",
          "height": 17
        },
        "id": "S1KPIgaQgIlE",
        "outputId": "a6c316d6-6f36-4dd5-b55e-c4c7906abb5b"
      },
      "execution_count": null,
      "outputs": [
        {
          "output_type": "display_data",
          "data": {
            "text/plain": [
              "<IPython.core.display.Javascript object>"
            ],
            "application/javascript": [
              "google.colab.output.setIframeHeight(0, true, {maxHeight: 400})"
            ]
          },
          "metadata": {}
        }
      ]
    },
    {
      "cell_type": "code",
      "source": [
        "lines = sc.textFile('/content/browsing.txt')"
      ],
      "metadata": {
        "colab": {
          "base_uri": "https://localhost:8080/",
          "height": 17
        },
        "id": "WT-kh803gM0X",
        "outputId": "ab567c51-9855-4807-d644-7cc03fcd3a37"
      },
      "execution_count": null,
      "outputs": [
        {
          "output_type": "display_data",
          "data": {
            "text/plain": [
              "<IPython.core.display.Javascript object>"
            ],
            "application/javascript": [
              "google.colab.output.setIframeHeight(0, true, {maxHeight: 400})"
            ]
          },
          "metadata": {}
        }
      ]
    },
    {
      "cell_type": "code",
      "source": [
        "def normalize_group(*args):\n",
        "    return sorted(args)"
      ],
      "metadata": {
        "colab": {
          "base_uri": "https://localhost:8080/",
          "height": 17
        },
        "id": "WyLG9L2zgUTW",
        "outputId": "37395a28-2a7e-407d-f4b3-e5d5940659ef"
      },
      "execution_count": null,
      "outputs": [
        {
          "output_type": "display_data",
          "data": {
            "text/plain": [
              "<IPython.core.display.Javascript object>"
            ],
            "application/javascript": [
              "google.colab.output.setIframeHeight(0, true, {maxHeight: 400})"
            ]
          },
          "metadata": {}
        }
      ]
    },
    {
      "cell_type": "code",
      "source": [
        "def get_pairs(items, frequent_items):\n",
        "    pairs = []\n",
        "    filtered_items = [item for item in items if item in frequent_items]\n",
        "    for i, item1 in enumerate(filtered_items[:-1]):\n",
        "        for item2 in filtered_items[i+1:]:\n",
        "            pairs.append(normalize_group(item1, item2))\n",
        "    return pairs"
      ],
      "metadata": {
        "colab": {
          "base_uri": "https://localhost:8080/",
          "height": 17
        },
        "id": "ckjIlT3IgWUo",
        "outputId": "e81951da-9cb0-4f76-b16c-5688e909ee94"
      },
      "execution_count": null,
      "outputs": [
        {
          "output_type": "display_data",
          "data": {
            "text/plain": [
              "<IPython.core.display.Javascript object>"
            ],
            "application/javascript": [
              "google.colab.output.setIframeHeight(0, true, {maxHeight: 400})"
            ]
          },
          "metadata": {}
        }
      ]
    },
    {
      "cell_type": "code",
      "source": [
        "def common_elements(list1, list2):\n",
        "    return list(set(list1) & set(list2))"
      ],
      "metadata": {
        "colab": {
          "base_uri": "https://localhost:8080/",
          "height": 17
        },
        "id": "bQ2ckS_mgXMa",
        "outputId": "f8ae0180-e698-4122-d160-71f699486c71"
      },
      "execution_count": null,
      "outputs": [
        {
          "output_type": "display_data",
          "data": {
            "text/plain": [
              "<IPython.core.display.Javascript object>"
            ],
            "application/javascript": [
              "google.colab.output.setIframeHeight(0, true, {maxHeight: 400})"
            ]
          },
          "metadata": {}
        }
      ]
    },
    {
      "cell_type": "code",
      "source": [
        "def get_triple(lists):\n",
        "    unique_elements = set()\n",
        "    for lst in lists:\n",
        "        unique_elements.update(lst)\n",
        "    sorted_elements = tuple(sorted(unique_elements))\n",
        "    return sorted_elements if sorted_elements else ()"
      ],
      "metadata": {
        "colab": {
          "base_uri": "https://localhost:8080/",
          "height": 17
        },
        "id": "9y8QYszWgfzR",
        "outputId": "0839b9a8-27f9-4f20-f023-16ae78a5c920"
      },
      "execution_count": null,
      "outputs": [
        {
          "output_type": "display_data",
          "data": {
            "text/plain": [
              "<IPython.core.display.Javascript object>"
            ],
            "application/javascript": [
              "google.colab.output.setIframeHeight(0, true, {maxHeight: 400})"
            ]
          },
          "metadata": {}
        }
      ]
    },
    {
      "cell_type": "code",
      "source": [
        "frequent_items = (lines.flatMap(lambda line: line.split())\n",
        "                   .map(lambda ele: (ele, 1))\n",
        "                   .reduceByKey(lambda count1, count2: count1 + count2)\n",
        "                   .filter(lambda x: x[1] >= 100))"
      ],
      "metadata": {
        "colab": {
          "base_uri": "https://localhost:8080/",
          "height": 17
        },
        "id": "RPuuVvuSgkAz",
        "outputId": "eae20e35-590d-4403-8ca5-d8156cf767d3"
      },
      "execution_count": null,
      "outputs": [
        {
          "output_type": "display_data",
          "data": {
            "text/plain": [
              "<IPython.core.display.Javascript object>"
            ],
            "application/javascript": [
              "google.colab.output.setIframeHeight(0, true, {maxHeight: 400})"
            ]
          },
          "metadata": {}
        }
      ]
    },
    {
      "cell_type": "code",
      "source": [
        "frequent_itemset = frequent_items.collectAsMap()"
      ],
      "metadata": {
        "colab": {
          "base_uri": "https://localhost:8080/",
          "height": 17
        },
        "id": "voGo-1gmgnmM",
        "outputId": "e8e616ab-dc71-4c5e-f38f-9c9fc8b9db2e"
      },
      "execution_count": null,
      "outputs": [
        {
          "output_type": "display_data",
          "data": {
            "text/plain": [
              "<IPython.core.display.Javascript object>"
            ],
            "application/javascript": [
              "google.colab.output.setIframeHeight(0, true, {maxHeight: 400})"
            ]
          },
          "metadata": {}
        }
      ]
    },
    {
      "cell_type": "code",
      "source": [
        "frequent_pairs = (lines.map(lambda line: line.split())\n",
        "                    .flatMap(lambda lst: get_pairs(lst, frequent_itemset))\n",
        "                    .map(lambda pair: (tuple(pair), 1))\n",
        "                    .reduceByKey(lambda count1, count2: count1 + count2)\n",
        "                    .filter(lambda x: x[1] >= 100))"
      ],
      "metadata": {
        "id": "Gv-Ngt6wgpem"
      },
      "execution_count": null,
      "outputs": []
    },
    {
      "cell_type": "code",
      "source": [
        "freq_pairs = frequent_pairs.map(lambda pair_count: list(pair_count[0])).collect()\n",
        "freq_pairs_with_count = frequent_pairs.collectAsMap()"
      ],
      "metadata": {
        "colab": {
          "base_uri": "https://localhost:8080/",
          "height": 17
        },
        "id": "-UtF0Ezfgriy",
        "outputId": "36754dac-f76d-4812-dd3d-3edbc856a8d3"
      },
      "execution_count": null,
      "outputs": [
        {
          "output_type": "display_data",
          "data": {
            "text/plain": [
              "<IPython.core.display.Javascript object>"
            ],
            "application/javascript": [
              "google.colab.output.setIframeHeight(0, true, {maxHeight: 400})"
            ]
          },
          "metadata": {}
        }
      ]
    },
    {
      "cell_type": "code",
      "source": [
        "freq_pair_conf = (frequent_pairs.flatMap(lambda elem: (((elem[0][0], elem[0][1]), elem[1]), ((elem[0][1], elem[0][0]), elem[1])))\n",
        "                                .map(lambda elem: (elem[0], float(elem[1]*1000/frequent_itemset[elem[0][0]])))\n",
        "                                .map(lambda elem: (elem[0], elem[1]/1000))\n",
        "                                .sortBy(lambda x: -x[1]) \n",
        "                  )"
      ],
      "metadata": {
        "colab": {
          "base_uri": "https://localhost:8080/",
          "height": 17
        },
        "id": "bo-1ZEejgvVM",
        "outputId": "fa524f50-44ed-4e82-bc04-420b1b35cc58"
      },
      "execution_count": null,
      "outputs": [
        {
          "output_type": "display_data",
          "data": {
            "text/plain": [
              "<IPython.core.display.Javascript object>"
            ],
            "application/javascript": [
              "google.colab.output.setIframeHeight(0, true, {maxHeight: 400})"
            ]
          },
          "metadata": {}
        }
      ]
    },
    {
      "cell_type": "code",
      "source": [
        "freq_pair_conf.take(5)"
      ],
      "metadata": {
        "colab": {
          "base_uri": "https://localhost:8080/",
          "height": 104
        },
        "id": "ZWViFjFdgxtg",
        "outputId": "d85d1dd8-2277-4d31-e698-82ba9ded5efc"
      },
      "execution_count": null,
      "outputs": [
        {
          "output_type": "display_data",
          "data": {
            "text/plain": [
              "<IPython.core.display.Javascript object>"
            ],
            "application/javascript": [
              "google.colab.output.setIframeHeight(0, true, {maxHeight: 400})"
            ]
          },
          "metadata": {}
        },
        {
          "output_type": "execute_result",
          "data": {
            "text/plain": [
              "[(('DAI93865', 'FRO40251'), 1.0),\n",
              " (('GRO85051', 'FRO40251'), 0.999176276771005),\n",
              " (('GRO38636', 'FRO40251'), 0.9906542056074766),\n",
              " (('ELE12951', 'FRO40251'), 0.9905660377358491),\n",
              " (('DAI88079', 'FRO40251'), 0.9867256637168142)]"
            ]
          },
          "metadata": {},
          "execution_count": 20
        }
      ]
    },
    {
      "cell_type": "markdown",
      "source": [
        "**2e**"
      ],
      "metadata": {
        "id": "hpcXUypag5tN"
      }
    },
    {
      "cell_type": "code",
      "source": [
        "lines = sc.textFile('/content/browsing.txt')"
      ],
      "metadata": {
        "colab": {
          "base_uri": "https://localhost:8080/",
          "height": 17
        },
        "id": "UR4oGac5g9dr",
        "outputId": "99a3a0f0-1d1b-4571-f7f4-364d0f5f468a"
      },
      "execution_count": null,
      "outputs": [
        {
          "output_type": "display_data",
          "data": {
            "text/plain": [
              "<IPython.core.display.Javascript object>"
            ],
            "application/javascript": [
              "google.colab.output.setIframeHeight(0, true, {maxHeight: 400})"
            ]
          },
          "metadata": {}
        }
      ]
    },
    {
      "cell_type": "code",
      "source": [
        "def normalize_group(*args):\n",
        "    return (sorted(args))"
      ],
      "metadata": {
        "colab": {
          "base_uri": "https://localhost:8080/",
          "height": 17
        },
        "id": "2NlEX4u1hEo9",
        "outputId": "054c8a99-2aaa-42dc-d1d2-85298d066409"
      },
      "execution_count": null,
      "outputs": [
        {
          "output_type": "display_data",
          "data": {
            "text/plain": [
              "<IPython.core.display.Javascript object>"
            ],
            "application/javascript": [
              "google.colab.output.setIframeHeight(0, true, {maxHeight: 400})"
            ]
          },
          "metadata": {}
        }
      ]
    },
    {
      "cell_type": "code",
      "source": [
        "def get_pairs(items, frequent_items):\n",
        "    pairs = []\n",
        "    filtered_items = [item for item in items if item in frequent_items]\n",
        "    for i, item1 in enumerate(filtered_items[:-1]):\n",
        "        for item2 in filtered_items[i+1:]:\n",
        "            pairs.append(normalize_group(item1, item2))\n",
        "    return pairs"
      ],
      "metadata": {
        "colab": {
          "base_uri": "https://localhost:8080/",
          "height": 17
        },
        "id": "d80IdbfchHAR",
        "outputId": "7b877404-0d16-4ca7-a7d3-89f3738c295a"
      },
      "execution_count": null,
      "outputs": [
        {
          "output_type": "display_data",
          "data": {
            "text/plain": [
              "<IPython.core.display.Javascript object>"
            ],
            "application/javascript": [
              "google.colab.output.setIframeHeight(0, true, {maxHeight: 400})"
            ]
          },
          "metadata": {}
        }
      ]
    },
    {
      "cell_type": "code",
      "source": [
        "def common_elements(list1, list2):\n",
        "    return list(set(list1) & set(list2))"
      ],
      "metadata": {
        "colab": {
          "base_uri": "https://localhost:8080/",
          "height": 17
        },
        "id": "vZSmQ4IjhJsg",
        "outputId": "0f28b37b-49fc-48c4-9917-cd87f028f08b"
      },
      "execution_count": null,
      "outputs": [
        {
          "output_type": "display_data",
          "data": {
            "text/plain": [
              "<IPython.core.display.Javascript object>"
            ],
            "application/javascript": [
              "google.colab.output.setIframeHeight(0, true, {maxHeight: 400})"
            ]
          },
          "metadata": {}
        }
      ]
    },
    {
      "cell_type": "code",
      "source": [
        "def get_triple(lists):\n",
        "    unique_elements = set()\n",
        "    for lst in lists:\n",
        "        unique_elements.update(lst)\n",
        "    sorted_elements = tuple(sorted(unique_elements))\n",
        "    return sorted_elements if sorted_elements else ()"
      ],
      "metadata": {
        "colab": {
          "base_uri": "https://localhost:8080/",
          "height": 17
        },
        "id": "7cLovVgyhLNW",
        "outputId": "eea88d8f-a40d-4aa5-b863-5d270925569a"
      },
      "execution_count": null,
      "outputs": [
        {
          "output_type": "display_data",
          "data": {
            "text/plain": [
              "<IPython.core.display.Javascript object>"
            ],
            "application/javascript": [
              "google.colab.output.setIframeHeight(0, true, {maxHeight: 400})"
            ]
          },
          "metadata": {}
        }
      ]
    },
    {
      "cell_type": "code",
      "source": [
        "requent_items = (lines.flatMap(lambda line: line.split())\n",
        "                   .map(lambda ele: (ele, 1))\n",
        "                   .reduceByKey(lambda count1, count2: count1 + count2)\n",
        "                   .filter(lambda x: x[1] >= 100))"
      ],
      "metadata": {
        "colab": {
          "base_uri": "https://localhost:8080/",
          "height": 17
        },
        "id": "UZheb0iOhNgK",
        "outputId": "7b9724d1-724a-4a8a-bbe1-659973096c64"
      },
      "execution_count": null,
      "outputs": [
        {
          "output_type": "display_data",
          "data": {
            "text/plain": [
              "<IPython.core.display.Javascript object>"
            ],
            "application/javascript": [
              "google.colab.output.setIframeHeight(0, true, {maxHeight: 400})"
            ]
          },
          "metadata": {}
        }
      ]
    },
    {
      "cell_type": "code",
      "source": [
        "frequent_itemset = frequent_items.collectAsMap()"
      ],
      "metadata": {
        "colab": {
          "base_uri": "https://localhost:8080/",
          "height": 17
        },
        "id": "MNxvhQfIhO_4",
        "outputId": "ee766710-f3d7-4e3d-efb6-2ec0d6691429"
      },
      "execution_count": null,
      "outputs": [
        {
          "output_type": "display_data",
          "data": {
            "text/plain": [
              "<IPython.core.display.Javascript object>"
            ],
            "application/javascript": [
              "google.colab.output.setIframeHeight(0, true, {maxHeight: 400})"
            ]
          },
          "metadata": {}
        }
      ]
    },
    {
      "cell_type": "code",
      "source": [
        "frequent_pairs = (lines.map(lambda line: line.split())\n",
        "                    .flatMap(lambda lst: get_pairs(lst, frequent_itemset))\n",
        "                    .map(lambda pair: (tuple(pair), 1))\n",
        "                    .reduceByKey(lambda count1, count2: count1 + count2)\n",
        "                    .filter(lambda x: x[1] >= 100))"
      ],
      "metadata": {
        "colab": {
          "base_uri": "https://localhost:8080/",
          "height": 17
        },
        "id": "1kAuJUOLhQu9",
        "outputId": "7d4c65d2-8bee-4842-9b5d-b6eed2183a12"
      },
      "execution_count": null,
      "outputs": [
        {
          "output_type": "display_data",
          "data": {
            "text/plain": [
              "<IPython.core.display.Javascript object>"
            ],
            "application/javascript": [
              "google.colab.output.setIframeHeight(0, true, {maxHeight: 400})"
            ]
          },
          "metadata": {}
        }
      ]
    },
    {
      "cell_type": "code",
      "source": [
        "freq_pairs = frequent_pairs.map(lambda pair_count: list(pair_count[0])).collect()\n",
        "freq_pairs_with_count = frequent_pairs.collectAsMap()"
      ],
      "metadata": {
        "colab": {
          "base_uri": "https://localhost:8080/",
          "height": 17
        },
        "id": "KCY5eUiLhvYG",
        "outputId": "e84195c2-6892-449f-de9b-97e45d130ef8"
      },
      "execution_count": null,
      "outputs": [
        {
          "output_type": "display_data",
          "data": {
            "text/plain": [
              "<IPython.core.display.Javascript object>"
            ],
            "application/javascript": [
              "google.colab.output.setIframeHeight(0, true, {maxHeight: 400})"
            ]
          },
          "metadata": {}
        }
      ]
    },
    {
      "cell_type": "code",
      "source": [
        "freq_pair_conf = (frequent_pairs.flatMap(lambda elem: (((elem[0][0], elem[0][1]), elem[1]), ((elem[0][1], elem[0][0]), elem[1])))\n",
        "                            .map(lambda elem: (elem[0], float(elem[1]*1000/frequent_itemset[elem[0][0]])))\n",
        "                                .map(lambda elem: (elem[0], elem[1]/1000))\n",
        "                                .sortBy(lambda x: -x[1])     \n",
        "                  )"
      ],
      "metadata": {
        "colab": {
          "base_uri": "https://localhost:8080/",
          "height": 17
        },
        "id": "syd9UGZphU7F",
        "outputId": "f4e57850-28ee-426e-80d5-65ea6c0e18d0"
      },
      "execution_count": null,
      "outputs": [
        {
          "output_type": "display_data",
          "data": {
            "text/plain": [
              "<IPython.core.display.Javascript object>"
            ],
            "application/javascript": [
              "google.colab.output.setIframeHeight(0, true, {maxHeight: 400})"
            ]
          },
          "metadata": {}
        }
      ]
    },
    {
      "cell_type": "code",
      "source": [
        "candidate_triples = (lines.map(lambda line: line.split())\n",
        "                      .flatMap(lambda lst: combinations(lst, r=3))\n",
        "                      .map(lambda triple: get_pairs(triple, frequent_itemset))\n",
        "                      .filter(lambda pairs: len(pairs) == 3)\n",
        "                      .filter(lambda pairs: all(ele in freq_pairs for ele in pairs))\n",
        "                      .map(lambda pairs: get_triple(pairs))\n",
        "                      .map(lambda triple: (triple, 1))\n",
        "                      .reduceByKey(lambda count1, count2: count1 + count2)\n",
        "                      .filter(lambda x: x[1] >= 100))"
      ],
      "metadata": {
        "id": "ZnfjBAG7hW1t",
        "colab": {
          "base_uri": "https://localhost:8080/",
          "height": 17
        },
        "outputId": "851eea9c-c260-4f96-f6f6-f8eb6c5d9026"
      },
      "execution_count": null,
      "outputs": [
        {
          "output_type": "display_data",
          "data": {
            "text/plain": [
              "<IPython.core.display.Javascript object>"
            ],
            "application/javascript": [
              "google.colab.output.setIframeHeight(0, true, {maxHeight: 400})"
            ]
          },
          "metadata": {}
        }
      ]
    },
    {
      "cell_type": "code",
      "source": [
        "freq_triples_conf = (candidate_triples.flatMap(lambda elem: (((elem[0][0],elem[0][1]),elem[0][2],elem[1]), ((elem[0][0],elem[0][2]),elem[0][1],elem[1]), ((elem[0][1],elem[0][2]),elem[0][0],elem[1])))\n",
        "                                      .map(lambda elem: (elem[0], elem[1], float(elem[2])/float(freq_pairs_with_count[elem[0]]))) \\\n",
        "                                      .sortBy(lambda x: (-x[2],x[0],x[1])))"
      ],
      "metadata": {
        "id": "juMJMYRuhZT3"
      },
      "execution_count": null,
      "outputs": []
    },
    {
      "cell_type": "code",
      "source": [
        "freq_triples_conf.take(5)"
      ],
      "metadata": {
        "id": "3v3jkQOHhauD"
      },
      "execution_count": null,
      "outputs": []
    },
    {
      "cell_type": "markdown",
      "source": [
        "**3a**\n",
        "\n",
        "Giả sử x, y, z ∈ S, chúng ta có:\n",
        "\n",
        "Pr(h(x) ≠ h(z)) = Pr{(h(x) ≠ h(z)) ∩ (h(x) = h(y))} + Pr{(h(x) ≠ h(y)) ∩ (h(x) ≠ h(z))} = Pr(h(y) ≠ h(z)) + Pr{(h(x) ≠ h(y)) ∩ (h(x) = h(z))} ≤ Pr(h(y) ≠ h(z)) + Pr(h(x) ≠ h(y))\n",
        "\n",
        "Điều này tương đương với:\n",
        "\n",
        "1 - sim(x,z) ≤ 1 - sim(y,z) + 1 - sim(x,y)\n",
        "\n",
        "điều này dẫn đến:\n",
        "\n",
        "d(x,z) ≤ d(y,z) + d(x,y)"
      ],
      "metadata": {
        "id": "FBi3brabitO1"
      }
    },
    {
      "cell_type": "markdown",
      "source": [
        "**3b**\n",
        "\n",
        "Cho A = {1,2,3}, B = {4,5,6}, C = {3,4,5,6}. Khi đó, simover(A,B) = 0, simover(B,C) = 3/3 = 1, simover(A,C) = 1/3. Vậy D(A,B) = 1 - 0 = 1, D(B,C) = 1 - 1 = 0, D(A,C) = 1 - 1/3 = 2/3. Ta có D(A,B) = 1 > 2/3 = D(B,C) + D(A,C)."
      ],
      "metadata": {
        "id": "mXi8DQD6iyXh"
      }
    },
    {
      "cell_type": "markdown",
      "source": [
        "**3c**\n",
        "\n",
        "Cho A = {1,2,3}, B = {4,5,6}, C = {3,4,5,6}. Khi đó, simdice(A,B) = 0, simdice(B,C) = 3/3.5 = 0.857, simdice(A,C) = 1/3.5 = 0.286. Vậy D(A,B) = 1-0 = 1, D(B,C) = 1-0.857 = 0.14, D(A,C) = 1-0.286 = 0.71. Ta có D(A,B) = 1 > 0.85 = D(B,C) + D(A,C)."
      ],
      "metadata": {
        "id": "8G2C8D10i39h"
      }
    },
    {
      "cell_type": "markdown",
      "source": [
        "**CÂU 4**"
      ],
      "metadata": {
        "id": "ONVmpr1ci6Fw"
      }
    },
    {
      "cell_type": "markdown",
      "source": [
        "**4a**\n",
        "\n",
        "Đối với mỗi 1 ≤ J ≤ L , và mỗi điểm dữ liệu x thuộc T, Pr[x ∈ T ∩ Wj] ≤ pk2 = 1/n), do đó theo công thức tính tuyến tính của kỳ vọng ta có  E[∑_(j=1)^L▒〖|T ∩Wj|≤L〗\n",
        "Do đó, ứng dụng của bất đẳng thức Markov đưa ra giới hạn xác suất mong muốn."
      ],
      "metadata": {
        "id": "9-z9FOYOyBcv"
      }
    },
    {
      "cell_type": "markdown",
      "source": [
        "**4b**\n",
        "\n",
        "Vì d(x^*, z) ≤ λ, Pr[∀1 ≤ j ≤ L, g_j(x^*) = g_j(z)] ≥ 〖p_1〗^k\n",
        "Pr[∀1 ≤ j ≤ L, g_j(x^*) # g_j(z)] = {1 − P r[∀1 ≤ j ≤ L, g_j(x^*) = g_j(z)]} ≤ 1 −〖p_1〗^k =〖(1 - p^(〖log〗_(p_2 ) 1/n))〗^(L ) 〖=(1-n^(-p))〗^L\n",
        "Do đó 1-x≤e^x 〖,(1-n^(-p) )〗^L≤e^(-L/n^p )=e^(-1)=1/e\n"
      ],
      "metadata": {
        "id": "S3AnzQJa0MZ_"
      }
    },
    {
      "cell_type": "markdown",
      "source": [
        "**4c**\n",
        "\n",
        "Có thể xảy ra lỗi nếu (1) có nhiều hơn 3L điểm trong L bộ chứa trong g_j(z) và tất cả 3L điểm được lấy mẫu đều từ tập T\n",
        "HOẶC (2) một điểm m ∈ A không được băm vào bất kỳ nhóm L nào trong g_j(z)\n",
        "Pr(lỗi) = Pr(trường hợp 1) + Pr(trường hợp 2) = Pr⁡(trường hợp 1)+Pr⁡(trường hợp2)=Pr[∑_(j=1)^L▒〖|T∩W_j |≥ 3L ] + Pr[∀1 ≤ j ≤ L,g_j (x^* )# g_j (z)≤1/3+1/e 〗\n",
        "Vì vậy, với xác suất lớn hơn một số hằng số cố định, điểm được báo cáo là một (c, λ)- ANN thực tế"
      ],
      "metadata": {
        "id": "djGcnFLZ2oZw"
      }
    },
    {
      "cell_type": "markdown",
      "source": [
        "**4d**"
      ],
      "metadata": {
        "id": "t99ywH9i2-KU"
      }
    },
    {
      "cell_type": "code",
      "source": [
        "import numpy as np\n",
        "import random\n",
        "import time\n",
        "import pdb\n",
        "import unittest\n",
        "from PIL import Image\n",
        "import matplotlib.pyplot as plt\n",
        "from typing import List"
      ],
      "metadata": {
        "colab": {
          "base_uri": "https://localhost:8080/",
          "height": 17
        },
        "id": "OvTxqklbi8lK",
        "outputId": "4168492f-898e-45d3-a87b-4c042cf5b1b9"
      },
      "execution_count": null,
      "outputs": [
        {
          "output_type": "display_data",
          "data": {
            "text/plain": [
              "<IPython.core.display.Javascript object>"
            ],
            "application/javascript": [
              "google.colab.output.setIframeHeight(0, true, {maxHeight: 400})"
            ]
          },
          "metadata": {}
        }
      ]
    },
    {
      "cell_type": "code",
      "source": [
        "def l1(u, v):\n",
        "    \"\"\"\n",
        "    Finds the L1 distance between two vectors u and v are 1-dimensional np.array objects\n",
        "    \"\"\"\n",
        "    return np.sum(abs(u - v))"
      ],
      "metadata": {
        "colab": {
          "base_uri": "https://localhost:8080/",
          "height": 17
        },
        "id": "vhBTB7b0jBx5",
        "outputId": "4edc0465-e977-4476-f158-182ea2862be8"
      },
      "execution_count": null,
      "outputs": [
        {
          "output_type": "display_data",
          "data": {
            "text/plain": [
              "<IPython.core.display.Javascript object>"
            ],
            "application/javascript": [
              "google.colab.output.setIframeHeight(0, true, {maxHeight: 400})"
            ]
          },
          "metadata": {}
        }
      ]
    },
    {
      "cell_type": "code",
      "source": [
        "def load_data(filename):\n",
        "    \"\"\"\n",
        "    Loads the data into a np array, where each row corresponds to an image patch -- this step is sort of slow.\n",
        "    Each row in the data is an image, and there are 400 columns.\n",
        "    \"\"\"\n",
        "    return np.genfromtxt(filename, delimiter=',')"
      ],
      "metadata": {
        "colab": {
          "base_uri": "https://localhost:8080/",
          "height": 17
        },
        "id": "VF67MEsxjD9D",
        "outputId": "77925280-eb27-4615-c77c-3dacb92e57f4"
      },
      "execution_count": null,
      "outputs": [
        {
          "output_type": "display_data",
          "data": {
            "text/plain": [
              "<IPython.core.display.Javascript object>"
            ],
            "application/javascript": [
              "google.colab.output.setIframeHeight(0, true, {maxHeight: 400})"
            ]
          },
          "metadata": {}
        }
      ]
    },
    {
      "cell_type": "code",
      "source": [
        "def create_function(dimensions: List[int], thresholds: List[float]):\n",
        "    \"\"\"\n",
        "    Returns a hash function that computes a hash key from a vector using a set of dimensions and thresholds.\n",
        "    :param dimensions: A list of dimensions to consider when creating the hash key.\n",
        "    :param thresholds: A list of threshold values to compare against the corresponding dimensions in the vector.\n",
        "    :return: A hash function that takes a vector as input and returns a hash key.\n",
        "    \"\"\"\n",
        "    def hash_function(vector):\n",
        "        bool_array = [vector[dim] >= threshold for dim, threshold in zip(dimensions, thresholds)]\n",
        "        return \"\".join(map(str, map(int, bool_array)))\n",
        "    return hash_function\n"
      ],
      "metadata": {
        "colab": {
          "base_uri": "https://localhost:8080/",
          "height": 17
        },
        "id": "g-G_9-htjGCG",
        "outputId": "4aa76e11-1617-468f-8658-e4c9a106c66e"
      },
      "execution_count": null,
      "outputs": [
        {
          "output_type": "display_data",
          "data": {
            "text/plain": [
              "<IPython.core.display.Javascript object>"
            ],
            "application/javascript": [
              "google.colab.output.setIframeHeight(0, true, {maxHeight: 400})"
            ]
          },
          "metadata": {}
        }
      ]
    },
    {
      "cell_type": "code",
      "source": [
        "def create_functions(k, L, num_dimensions=400, min_threshold=0, max_threshold=255):\n",
        "    \"\"\"\n",
        "    Creates the LSH functions (functions that compute L K-bit hash keys).\n",
        "    Each function selects k dimensions (i.e. column indices of the image matrix) at random, and then chooses a random threshold for each dimension, between 0 and\n",
        "    255.  For any image, if its value on a given dimension is greater than or equal to\n",
        "    the randomly chosen threshold, we set that bit to 1.  Each hash function returns\n",
        "    a length-k bit string of the form \"0101010001101001...\", and the L hash functions \n",
        "    will produce L such bit strings for each image.\n",
        "    \"\"\"\n",
        "    functions = []\n",
        "    for i in range(L):\n",
        "        dimensions = np.random.randint(low = 0, \n",
        "                                   high = num_dimensions,\n",
        "                                   size = k)\n",
        "        thresholds = np.random.randint(low = min_threshold, \n",
        "                                   high = max_threshold + 1, \n",
        "                                   size = k)\n",
        "\n",
        "        functions.append(create_function(dimensions, thresholds))\n",
        "    return functions"
      ],
      "metadata": {
        "colab": {
          "base_uri": "https://localhost:8080/",
          "height": 17
        },
        "id": "TBNTEnBVjIsd",
        "outputId": "84b45fe2-0dc1-4afc-cb37-12efd4baef17"
      },
      "execution_count": null,
      "outputs": [
        {
          "output_type": "display_data",
          "data": {
            "text/plain": [
              "<IPython.core.display.Javascript object>"
            ],
            "application/javascript": [
              "google.colab.output.setIframeHeight(0, true, {maxHeight: 400})"
            ]
          },
          "metadata": {}
        }
      ]
    },
    {
      "cell_type": "code",
      "source": [
        "def hash_vector(functions, v):\n",
        "    \"\"\"\n",
        "    Hashes an individual vector (i.e. image). \n",
        "    This produces an array with L entries, where each entry is a string of k bits.\n",
        "    \"\"\"\n",
        "    return np.array([f(v) for f in functions])"
      ],
      "metadata": {
        "colab": {
          "base_uri": "https://localhost:8080/",
          "height": 17
        },
        "id": "ThKz5cosjK_M",
        "outputId": "11c5a394-4113-410e-cb69-1f439c2a77c3"
      },
      "execution_count": null,
      "outputs": [
        {
          "output_type": "display_data",
          "data": {
            "text/plain": [
              "<IPython.core.display.Javascript object>"
            ],
            "application/javascript": [
              "google.colab.output.setIframeHeight(0, true, {maxHeight: 400})"
            ]
          },
          "metadata": {}
        }
      ]
    },
    {
      "cell_type": "code",
      "source": [
        "def hash_data(functions, A):\n",
        "    \"\"\"\n",
        "    Hashes the data in A, where each row is a datapoint, using the L functions in \"functions.\"\n",
        "    \"\"\"\n",
        "    return np.array(list(map(lambda v: hash_vector(functions, v), A)))"
      ],
      "metadata": {
        "colab": {
          "base_uri": "https://localhost:8080/",
          "height": 17
        },
        "id": "E306u9G-jNec",
        "outputId": "0421a8af-bc01-45c4-e36c-84f0af15d36b"
      },
      "execution_count": null,
      "outputs": [
        {
          "output_type": "display_data",
          "data": {
            "text/plain": [
              "<IPython.core.display.Javascript object>"
            ],
            "application/javascript": [
              "google.colab.output.setIframeHeight(0, true, {maxHeight: 400})"
            ]
          },
          "metadata": {}
        }
      ]
    },
    {
      "cell_type": "code",
      "source": [
        "def get_candidates(hashed_A, hashed_point, query_index):\n",
        "    \"\"\"\n",
        "    Retrieve all of the points that hash to one of the same buckets \n",
        "    as the query point.  Do not do any random sampling (unlike what the first part of this problem prescribes).\n",
        "    Don't retrieve a point if it is the same point as the query point.\n",
        "    \"\"\"\n",
        "    candidate_indices = []\n",
        "    for i, hashed_data_point in enumerate(hashed_data):\n",
        "        if i != query_index and np.array_equal(hashed_query, hashed_data_point):\n",
        "            candidate_indices.append(i)\n",
        "    return candidate_indices"
      ],
      "metadata": {
        "colab": {
          "base_uri": "https://localhost:8080/",
          "height": 17
        },
        "id": "flQ878MzjPj8",
        "outputId": "dd830771-baf3-4e6b-ee11-9a50203728a5"
      },
      "execution_count": null,
      "outputs": [
        {
          "output_type": "display_data",
          "data": {
            "text/plain": [
              "<IPython.core.display.Javascript object>"
            ],
            "application/javascript": [
              "google.colab.output.setIframeHeight(0, true, {maxHeight: 400})"
            ]
          },
          "metadata": {}
        }
      ]
    },
    {
      "cell_type": "code",
      "source": [
        "def lsh_setup(A, k = 24, L = 10):\n",
        "    \"\"\"\n",
        "    Sets up the LSH.  You should try to call this function as few times as \n",
        "    possible, since it is expensive.\n",
        "    A: The dataset.\n",
        "    Return the LSH functions and hashed data structure.\n",
        "    \"\"\"\n",
        "    functions = create_functions(k = k, L = L)\n",
        "    hashed_A = hash_data(functions, A)\n",
        "    return (functions, hashed_A)"
      ],
      "metadata": {
        "colab": {
          "base_uri": "https://localhost:8080/",
          "height": 17
        },
        "id": "ie3rKE7NjUDD",
        "outputId": "e4dc299c-21a0-41e7-ae1a-c9acabac7aea"
      },
      "execution_count": null,
      "outputs": [
        {
          "output_type": "display_data",
          "data": {
            "text/plain": [
              "<IPython.core.display.Javascript object>"
            ],
            "application/javascript": [
              "google.colab.output.setIframeHeight(0, true, {maxHeight: 400})"
            ]
          },
          "metadata": {}
        }
      ]
    },
    {
      "cell_type": "code",
      "source": [
        "def lsh_search(A, hashed_A, functions, query_index, num_neighbors = 10):\n",
        "    \"\"\"\n",
        "    Run the entire LSH algorithm\n",
        "    \"\"\"\n",
        "    hashed_point = hash_vector(functions, A[query_index, :])\n",
        "    candidate_row_nums = get_candidates(hashed_A, hashed_point, query_index)\n",
        "    \n",
        "    distances = map(lambda r: (r, l1(A[r], A[query_index])), candidate_row_nums)\n",
        "    best_neighbors = sorted(distances, key=lambda t: t[1])[:num_neighbors]\n",
        "\n",
        "    return [t[0] for t in best_neighbors]"
      ],
      "metadata": {
        "colab": {
          "base_uri": "https://localhost:8080/",
          "height": 17
        },
        "id": "LcXbtiQXjWJR",
        "outputId": "d899a640-c9ef-4e1f-ae8d-e33eb16e72e2"
      },
      "execution_count": null,
      "outputs": [
        {
          "output_type": "display_data",
          "data": {
            "text/plain": [
              "<IPython.core.display.Javascript object>"
            ],
            "application/javascript": [
              "google.colab.output.setIframeHeight(0, true, {maxHeight: 400})"
            ]
          },
          "metadata": {}
        }
      ]
    },
    {
      "cell_type": "code",
      "source": [
        "def plot(A, row_nums, base_filename):\n",
        "    \"\"\"\n",
        "    Plots images at the specified rows and saves them each to files.\n",
        "    \"\"\"\n",
        "    for row_num in row_nums:\n",
        "        patch = np.reshape(A[row_num, :], [20, 20])\n",
        "        im = Image.fromarray(patch)\n",
        "        if im.mode != 'RGB':\n",
        "            im = im.convert('RGB')\n",
        "        im.save(base_filename + \"-\" + str(row_num) + \".png\")"
      ],
      "metadata": {
        "colab": {
          "base_uri": "https://localhost:8080/",
          "height": 17
        },
        "id": "jmG2JavrjYqZ",
        "outputId": "a75db7ee-c2c1-47d0-d3f5-ab5c45cba96c"
      },
      "execution_count": null,
      "outputs": [
        {
          "output_type": "display_data",
          "data": {
            "text/plain": [
              "<IPython.core.display.Javascript object>"
            ],
            "application/javascript": [
              "google.colab.output.setIframeHeight(0, true, {maxHeight: 400})"
            ]
          },
          "metadata": {}
        }
      ]
    },
    {
      "cell_type": "code",
      "source": [
        "def linear_search(A, query_index, num_neighbors):\n",
        "    \"\"\"\n",
        "    Finds the nearest neighbors to a given vector, using linear search.\n",
        "    \"\"\"\n",
        "    neighbors_arr = []\n",
        "    vector = A[query_index]\n",
        "    for row_index in range(len(A)):\n",
        "        if row_index != query_index:\n",
        "            candidate = A[row_index]\n",
        "            distance = l1(candidate,vector)\n",
        "            if len(neighbors_arr) < num_neighbors:\n",
        "                neighbors_arr.append([row_index,distance])\n",
        "                max_neighbor = max(neighbors_arr,key=lambda x: x[1])\n",
        "                neighbors_arr = sorted(neighbors_arr, key=lambda x: x[1])\n",
        "            else:\n",
        "                if distance > neighbors_arr[-1][1]:\n",
        "                    continue\n",
        "                candidate_idx = -1\n",
        "                for idx in range(len(neighbors_arr),0,-1):\n",
        "                    if neighbors_arr[idx-1][1] > distance:\n",
        "                        candidate_idx = idx-1\n",
        "                neighbors_arr.pop(candidate_idx)\n",
        "                neighbors_arr.insert(candidate_idx,[row_index,distance])\n",
        "    sorted_arr = sorted(neighbors_arr, key=lambda x: x[1])\n",
        "    return [neighbor[0] for neighbor in sorted_arr]"
      ],
      "metadata": {
        "colab": {
          "base_uri": "https://localhost:8080/",
          "height": 17
        },
        "id": "lIR2bZGrjbO3",
        "outputId": "ac04149b-5113-4d5d-d1f9-ef3f6a8cd667"
      },
      "execution_count": null,
      "outputs": [
        {
          "output_type": "display_data",
          "data": {
            "text/plain": [
              "<IPython.core.display.Javascript object>"
            ],
            "application/javascript": [
              "google.colab.output.setIframeHeight(0, true, {maxHeight: 400})"
            ]
          },
          "metadata": {}
        }
      ]
    },
    {
      "cell_type": "code",
      "source": [
        "def get_error(A, image_patches, linear_neighbors, lsh_neighbours):\n",
        "    \"\"\"\n",
        "    Computes the error measure\n",
        "    \"\"\"\n",
        "    error_sum = 0\n",
        "    for j in range(10):\n",
        "        patch = image_patches[j]\n",
        "        linear_distance = sum([l1(A[idx],A[patch]) for idx in linear_neighbors[j]])\n",
        "        lsh_distance = sum([l1(A[idx],A[patch]) for idx in lsh_neighbours[j]])\n",
        "        error_sum += lsh_distance/linear_distance\n",
        "    return error_sum/10"
      ],
      "metadata": {
        "colab": {
          "base_uri": "https://localhost:8080/",
          "height": 17
        },
        "id": "jeeCHSPujdkE",
        "outputId": "f29a396d-c089-4427-d719-e196118c4779"
      },
      "execution_count": null,
      "outputs": [
        {
          "output_type": "display_data",
          "data": {
            "text/plain": [
              "<IPython.core.display.Javascript object>"
            ],
            "application/javascript": [
              "google.colab.output.setIframeHeight(0, true, {maxHeight: 400})"
            ]
          },
          "metadata": {}
        }
      ]
    },
    {
      "cell_type": "code",
      "source": [
        "def run_simulation(data,K,L):\n",
        "    linear_neighbors = []\n",
        "    lsh_neighbours = []\n",
        "    functions, hashed_A = lsh_setup(data,K,L)\n",
        "    for i in [99,199,299,399,499,599,699,799,899,999]:\n",
        "        linear_neighbors.append(linear_search(data, i, 3))\n",
        "        lsh_neighbours.append(lsh_search(data,hashed_A,functions,i,3))\n",
        "    return linear_neighbors,"
      ],
      "metadata": {
        "colab": {
          "base_uri": "https://localhost:8080/",
          "height": 17
        },
        "id": "EvOWKSjwjf9D",
        "outputId": "b5d12b14-a65d-4eb4-944c-4be101a0d548"
      },
      "execution_count": null,
      "outputs": [
        {
          "output_type": "display_data",
          "data": {
            "text/plain": [
              "<IPython.core.display.Javascript object>"
            ],
            "application/javascript": [
              "google.colab.output.setIframeHeight(0, true, {maxHeight: 400})"
            ]
          },
          "metadata": {}
        }
      ]
    },
    {
      "cell_type": "code",
      "source": [
        "start_time = time.time()\n",
        "data = load_data(\"/content/patches.csv\")\n",
        "print(\"data loaded in %s seconds\" % (time.time() - start_time))"
      ],
      "metadata": {
        "id": "SWvpn7J1j0jf"
      },
      "execution_count": null,
      "outputs": []
    },
    {
      "cell_type": "code",
      "source": [
        "# Test average search time\n",
        "functions, hashed_A = lsh_setup(data)\n",
        "linear_time = 0.0\n",
        "lsh_time = 0.0\n",
        "for i in [99,199,299,399,499,599,699,799,899,999]:\n",
        "    print(\"row: %s\"%i)\n",
        "    start_time = time.time()\n",
        "    neighbors = linear_search(data, i, 3)\n",
        "    run_time = time.time() - start_time\n",
        "    print(\"neighbors: {0} found in {1} seconds\".format(neighbors,run_time))\n",
        "    linear_time += run_time\n",
        "\n",
        "    start_time = time.time()\n",
        "    neighbors = lsh_search(data,hashed_A,functions,i,3)\n",
        "    run_time = time.time() - start_time\n",
        "    print(\"neighbors: {0} found in {1} seconds\".format(neighbors,run_time))\n",
        "    lsh_time += run_time\n",
        "print('')\n",
        "print(\"linear average: {0}\".format(linear_time/10))\n",
        "print(\"lsh average: {0}\".format(lsh_time/10)) "
      ],
      "metadata": {
        "id": "TWGxnY8pj_5i"
      },
      "execution_count": null,
      "outputs": []
    },
    {
      "cell_type": "code",
      "source": [
        "# Plot error to L\n",
        "image_patches = [99,199,299,399,499,599,699,799,899,999]\n",
        "error_arr = []\n",
        "\n",
        "for L in range(10,22,2):\n",
        "    linear_neighbors,lsh_neighbours = run_simulation(data,24,L)\n",
        "    error_arr.append(get_error(data, image_patches, linear_neighbors, lsh_neighbours))\n",
        "L = [l for l in range(10,22,2)]\n",
        "plt.clf() \n",
        "plt.close()\n",
        "plt.plot(L,error_arr)\n",
        "plt.xlabel('L')\n",
        "plt.ylabel('error')\n",
        "plt.savefig('L_error.png')"
      ],
      "metadata": {
        "id": "pdGLBVKLku2F"
      },
      "execution_count": null,
      "outputs": []
    },
    {
      "cell_type": "code",
      "source": [
        "# Plot error to k\n",
        "error_arr = []\n",
        "for k in range(16,26,2):\n",
        "    linear_neighbors,lsh_neighbours = run_simulation(data,k,10)\n",
        "    error_arr.append(get_error(data, image_patches, linear_neighbors, lsh_neighbours))\n",
        "K = [k for k in range(16,26,2)]\n",
        "print(K)\n",
        "print(error_arr)\n",
        "plt.plot(K,error_arr)\n",
        "plt.xlabel('K')\n",
        "plt.ylabel('error')\n",
        "plt.savefig('K_error.png')"
      ],
      "metadata": {
        "id": "orjzKykykxov"
      },
      "execution_count": null,
      "outputs": []
    }
  ],
  "metadata": {
    "colab": {
      "provenance": []
    },
    "kernelspec": {
      "display_name": "Python 3",
      "name": "python3"
    },
    "language_info": {
      "name": "python"
    }
  },
  "nbformat": 4,
  "nbformat_minor": 0
}